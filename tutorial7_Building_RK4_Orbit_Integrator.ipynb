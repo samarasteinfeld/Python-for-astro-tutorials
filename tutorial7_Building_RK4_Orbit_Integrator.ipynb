{
 "cells": [
  {
   "cell_type": "markdown",
   "metadata": {},
   "source": [
    "### Tutorial link [here](https://prappleizer.github.io/Tutorials/RK4/RK4_Tutorial.html)\n",
    "Samara Steinfeld"
   ]
  },
  {
   "cell_type": "code",
   "execution_count": 1,
   "metadata": {},
   "outputs": [],
   "source": [
    "import numpy as np \n",
    "import matplotlib.pyplot as plt \n",
    "import astropy.units as u \n",
    "import astropy.constants as c "
   ]
  },
  {
   "cell_type": "code",
   "execution_count": 2,
   "metadata": {},
   "outputs": [],
   "source": [
    "class Body():\n",
    "    def __init__(self,name, x_vec, v_vec, mass): #keeping steps separate for learning/clarity\n",
    "        \"\"\"\n",
    "        Parameters\n",
    "        ----------\n",
    "        name : string\n",
    "            name of the body\n",
    "        x_vec : 3-d array \n",
    "            x vector, positions\n",
    "        v_vec : 3-d array \n",
    "            velocity vector\n",
    "        mass : float\n",
    "            mass of body\n",
    "            \n",
    "        \"\"\"\n",
    "        \n",
    "        #make them in units of cgs\n",
    "        x_cgs = x_vec.cgs\n",
    "        v_cgs = v_vec.cgs\n",
    "        mass_cgs = mass.cgs\n",
    "        \n",
    "        #strip of units and initialize in self\n",
    "        self.x_vec = x_cgs.value\n",
    "        self.v_vec = v_cgs.value\n",
    "        self.mass = mass_cgs.value\n",
    "        \n",
    "        self.name = name\n",
    "        pass\n",
    "    \n",
    "    def return_vec(self):\n",
    "        \"\"\"Concatenate the position and velocity vectors\"\"\"\n",
    "        return np.concatenate((self.x_vec, self.v_vec))"
   ]
  },
  {
   "cell_type": "code",
   "execution_count": 3,
   "metadata": {},
   "outputs": [
    {
     "name": "stdout",
     "output_type": "stream",
     "text": [
      "10.0 solMass\n",
      "1.988409870698051e+34\n"
     ]
    }
   ],
   "source": [
    "####EXAMPLE FROM TUTORIAL\n",
    "\n",
    "#Here is some mass a user might set up\n",
    "my_mass = 10 * u.Msun\n",
    "print(my_mass)\n",
    "#We can convert this to cgs and then strip the units via\n",
    "\n",
    "my_mass_stripped = my_mass.cgs.value\n",
    "print(my_mass_stripped)"
   ]
  },
  {
   "cell_type": "code",
   "execution_count": 4,
   "metadata": {},
   "outputs": [],
   "source": [
    "class Simulation():\n",
    "    def __init__(self, bodies):\n",
    "        \"\"\"What bodies to consider in a simulation\n",
    "        Parameters\n",
    "        ----------\n",
    "        bodies : list\n",
    "            list of bodies to use in simulation\n",
    "        N_bodies : float \n",
    "            number of bodies\n",
    "        Ndim : float\n",
    "            D phase space info in this diff eq \n",
    "        quant_vec : n-darray\n",
    "            array with position and velocity of all bodies\n",
    "        mass_vec : n-darray\n",
    "            mass of bodies\n",
    "        name_vec : list\n",
    "            name of bodies\n",
    "     \n",
    "        \"\"\"\n",
    "        \n",
    "        self.bodies = bodies\n",
    "        self.N_bodies = len(bodies)\n",
    "        self.Ndim = 6\n",
    "        \n",
    "        self.quant_vec = np.concatenate(np.array([body.return_vec() for body in self.bodies]))\n",
    "        self.mass_vec = np.array([body.mass for body in self.bodies])\n",
    "        self.name_vec = [body.name for body in self.bodies]\n",
    "        pass\n",
    "    \n",
    "    def set_diff_eq(self,calc_diff_eqs,**kwargs):\n",
    "        '''\n",
    "        Method which assigns an external solver function as the diff-eq solver for RK4. \n",
    "        For N-body or gravitational setups, this is the function which calculates accelerations.\n",
    "        ---------------------------------\n",
    "        Params:\n",
    "            calc_diff_eqs: A function which returns a [y] vector for RK4\n",
    "            **kwargs: Any additional inputs/hyperparameters the external function requires\n",
    "        '''\n",
    "        self.diff_eq_kwargs = kwargs\n",
    "        self.calc_diff_eqs = calc_diff_eqs\n",
    "        \n",
    "    def rk4(self,t,dt):\n",
    "        '''\n",
    "        Calculate the new y for step dt using rk4 method\n",
    "        Parameters\n",
    "        ----------\n",
    "        t : float\n",
    "            current time\n",
    "        dt : float \n",
    "            change in time\n",
    "            \n",
    "        '''\n",
    "        #Use set_diff_eq(self,calc_diff_eqs,**kwargs)\n",
    "        k1 = dt * self.set_diff_eq(t, self.quant_vec, self.mass_vec, **self.diff_eq_kwargs)\n",
    "        k2 = dt * self.set_diff_eq(t+0.5*dt, self.quant_vec+0.5*k1, self.mass_vec, **self.diff_eq_kwargs)\n",
    "        k3 = dt * self.set_diff_eq(t+0.5*dt, self.quant_vec+0.5*k2, self.mass_vec, **self.diff_eq_kwargs)\n",
    "        k4 = dt * self.set_diff_eq(t+dt, self.quant_vec+k3, self.mass_vec, **self.diff_eq_kwargs)\n",
    "    \n",
    "        y_new = self.quant_vec + (1/6.)*(k1+ 2*k2 + 2*k3 + k4)\n",
    "        return y_new\n",
    "    \n",
    "    def run(self,T,dt,t0=0):\n",
    "        '''\n",
    "        Method which runs the simulation on a given set of bodies.\n",
    "        ---------------------\n",
    "        Params: \n",
    "        T : float\n",
    "            total time (in simulation units) to run the simulation. Can have units or not, just set has_units appropriately.\n",
    "        dt : float\n",
    "            timestep (in simulation units) to advance the simulation. Same as above\n",
    "        t0 (optional) : float\n",
    "            set a non-zero start time to the simulation.\n",
    "\n",
    "        Returns: \n",
    "            None, but leaves an attribute history accessed via \n",
    "            'simulation.history' which contains all y vectors for the simulation. \n",
    "            These are of shape (Nstep,Nbodies * 6), so the x and y positions of particle 1 are\n",
    "            simulation.history[:,0], simulation.history[:,1], while the same for particle 2 are\n",
    "            simulation.history[:,6], simulation.history[:,7]. Velocities are also extractable.\n",
    "        '''\n",
    "        \n",
    "        T_stripped = T.cgs.value\n",
    "        dt_stripped = dt.cgs.value\n",
    "        nsteps = int((T-t0)/dt)\n",
    "        self.history = [self.quant_vec]\n",
    "        #print(T_stripped)\n",
    "        \n",
    "        for i in range(nsteps):\n",
    "            new_y = self.rk4(0,dt)\n",
    "            self.history.append(new_y)\n",
    "            self.quant_vec = new_y"
   ]
  },
  {
   "cell_type": "code",
   "execution_count": 5,
   "metadata": {},
   "outputs": [],
   "source": [
    "Earth = Body(name='Earth',\n",
    "             x_vec = np.array([0,1,0])*u.AU,\n",
    "             v_vec = np.array([0,30,0])*u.km/u.s,\n",
    "             mass = 1.0*c.M_earth)\n",
    "Earth.return_vec()\n",
    "\n",
    "Sun = Body(name='Sun',\n",
    "           x_vec = np.array([0,0,0])*u.AU,\n",
    "           v_vec = np.array([0,0,0])*u.km/u.s,\n",
    "           mass = 1*u.Msun)\n",
    "\n",
    "bodies = [Earth,Sun]\n",
    "\n",
    "my_simulation = Simulation(bodies)"
   ]
  },
  {
   "cell_type": "markdown",
   "metadata": {},
   "source": [
    "**Notes from the tutorial page**\n",
    "- We call an integrater linear or first order if it is the case that reducing your time step-size by a factor of ten results in a factor of 10 reduction in accumulated error.\n",
    "\n",
    "\n",
    "**Formula for rk4:**\n",
    "$$k_1 = dt\\times f(t_n, y_n)$$\\\n",
    "$$k_2 = dt\\times f(t_n + \\frac{dt}{2}, y_n +\\frac{k_1}{2})$$\\\n",
    "$$k_3 = dt\\times f(t_n + \\frac{dt}{2}, y_n +\\frac{k_2}{2})$$\\\n",
    "$$k_4 = dt\\times f(t_n + dt, y_n +k_3)$$\\\n",
    "$$y_{n+1} = y_n +\\frac{1}{6}(k_1+k_2+k_3+k_4)$$\\\n",
    "$$t_{n+1} = t_n+dt$$\n",
    "\n",
    "- $k_1$ is actually just what you would get from a first order, direct integration. It is the timestep multiplied by the evaluation of the differential equation at t and $y_n$ (the generalized vector).\n",
    "- $k_2$ is an estimate for $y$, but this time at the half-step mark in time, $dt/2$ and at the position $(y_n+k_1/2)$. That is, at half the distance predicted by the first order step.\n",
    "- $k_3$ evaluates the differential equation $t+dt/2$ but at the position $(y_n+k_2/2$, half the distance estimated by the previous step.\n",
    "- $k_4$ is the evaluation of the differential equation at the full timestep $dt$ at the $k_3$ position\n",
    "- Then the $k$s are added together in a weighted way."
   ]
  },
  {
   "cell_type": "code",
   "execution_count": 6,
   "metadata": {},
   "outputs": [],
   "source": [
    "def nbody_solve(t,y,masses):\n",
    "    N_bodies = int(len(y) / 6)\n",
    "    solved_vector = np.zeros(y.size)\n",
    "    for i in range(N_bodies):\n",
    "        ioffset = i * 6 \n",
    "        for j in range(N_bodies):\n",
    "            joffset = j*6\n",
    "            solved_vector[ioffset] = y[ioffset+3]\n",
    "            solved_vector[ioffset+1] = y[ioffset+4]\n",
    "            solved_vector[ioffset+2] = y[ioffset+5]\n",
    "            if i != j:\n",
    "                dx = y[ioffset] - y[joffset]\n",
    "                dy = y[ioffset+1] - y[joffset+1]\n",
    "                dz = y[ioffset+2] - y[joffset+2] \n",
    "                r = (dx**2+dy**2+dz**2)**0.5\n",
    "                ax = (-c.G.cgs * masses[j] / r**3) * dx\n",
    "                ay = (-c.G.cgs * masses[j] / r**3) * dy\n",
    "                az = (-c.G.cgs * masses[j] / r**3) * dz\n",
    "                ax = ax.value\n",
    "                ay = ay.value\n",
    "                az = az.value\n",
    "                solved_vector[ioffset+3] += ax\n",
    "                solved_vector[ioffset+4] += ay\n",
    "                solved_vector[ioffset+5] += az            \n",
    "    return solved_vector "
   ]
  },
  {
   "cell_type": "markdown",
   "metadata": {},
   "source": [
    "- `t` is a dummy variable\n",
    "- `ioffset` lets you index the $i^\\text{th}$ body, 6 because each body has 6 indices of information\n",
    "- inner iteration is to calculate the acceleration on each body by each other body"
   ]
  },
  {
   "cell_type": "code",
   "execution_count": 7,
   "metadata": {},
   "outputs": [
    {
     "ename": "TypeError",
     "evalue": "set_diff_eq() takes 2 positional arguments but 4 were given",
     "output_type": "error",
     "traceback": [
      "\u001b[0;31m---------------------------------------------------------------------------\u001b[0m",
      "\u001b[0;31mTypeError\u001b[0m                                 Traceback (most recent call last)",
      "\u001b[0;32m<ipython-input-7-a1edc4d851c8>\u001b[0m in \u001b[0;36m<module>\u001b[0;34m\u001b[0m\n\u001b[1;32m     22\u001b[0m \u001b[0msimulation\u001b[0m\u001b[0;34m.\u001b[0m\u001b[0mset_diff_eq\u001b[0m\u001b[0;34m(\u001b[0m\u001b[0mnbody_solve\u001b[0m\u001b[0;34m)\u001b[0m\u001b[0;34m\u001b[0m\u001b[0;34m\u001b[0m\u001b[0m\n\u001b[1;32m     23\u001b[0m \u001b[0;34m\u001b[0m\u001b[0m\n\u001b[0;32m---> 24\u001b[0;31m \u001b[0msimulation\u001b[0m\u001b[0;34m.\u001b[0m\u001b[0mrun\u001b[0m\u001b[0;34m(\u001b[0m\u001b[0;36m72\u001b[0m\u001b[0;34m*\u001b[0m\u001b[0mu\u001b[0m\u001b[0;34m.\u001b[0m\u001b[0mday\u001b[0m\u001b[0;34m,\u001b[0m\u001b[0;36m1\u001b[0m\u001b[0;34m*\u001b[0m\u001b[0mu\u001b[0m\u001b[0;34m.\u001b[0m\u001b[0mhr\u001b[0m\u001b[0;34m)\u001b[0m\u001b[0;34m\u001b[0m\u001b[0;34m\u001b[0m\u001b[0m\n\u001b[0m",
      "\u001b[0;32m<ipython-input-4-42dc5e705f86>\u001b[0m in \u001b[0;36mrun\u001b[0;34m(self, T, dt, t0)\u001b[0m\n\u001b[1;32m     87\u001b[0m \u001b[0;34m\u001b[0m\u001b[0m\n\u001b[1;32m     88\u001b[0m         \u001b[0;32mfor\u001b[0m \u001b[0mi\u001b[0m \u001b[0;32min\u001b[0m \u001b[0mrange\u001b[0m\u001b[0;34m(\u001b[0m\u001b[0mnsteps\u001b[0m\u001b[0;34m)\u001b[0m\u001b[0;34m:\u001b[0m\u001b[0;34m\u001b[0m\u001b[0;34m\u001b[0m\u001b[0m\n\u001b[0;32m---> 89\u001b[0;31m             \u001b[0mnew_y\u001b[0m \u001b[0;34m=\u001b[0m \u001b[0mself\u001b[0m\u001b[0;34m.\u001b[0m\u001b[0mrk4\u001b[0m\u001b[0;34m(\u001b[0m\u001b[0;36m0\u001b[0m\u001b[0;34m,\u001b[0m\u001b[0mdt\u001b[0m\u001b[0;34m)\u001b[0m\u001b[0;34m\u001b[0m\u001b[0;34m\u001b[0m\u001b[0m\n\u001b[0m\u001b[1;32m     90\u001b[0m             \u001b[0mself\u001b[0m\u001b[0;34m.\u001b[0m\u001b[0mhistory\u001b[0m\u001b[0;34m.\u001b[0m\u001b[0mappend\u001b[0m\u001b[0;34m(\u001b[0m\u001b[0mnew_y\u001b[0m\u001b[0;34m)\u001b[0m\u001b[0;34m\u001b[0m\u001b[0;34m\u001b[0m\u001b[0m\n\u001b[1;32m     91\u001b[0m             \u001b[0mself\u001b[0m\u001b[0;34m.\u001b[0m\u001b[0mquant_vec\u001b[0m \u001b[0;34m=\u001b[0m \u001b[0mnew_y\u001b[0m\u001b[0;34m\u001b[0m\u001b[0;34m\u001b[0m\u001b[0m\n",
      "\u001b[0;32m<ipython-input-4-42dc5e705f86>\u001b[0m in \u001b[0;36mrk4\u001b[0;34m(self, t, dt)\u001b[0m\n\u001b[1;32m     52\u001b[0m         '''\n\u001b[1;32m     53\u001b[0m         \u001b[0;31m#Use set_diff_eq(self,calc_diff_eqs,**kwargs)\u001b[0m\u001b[0;34m\u001b[0m\u001b[0;34m\u001b[0m\u001b[0;34m\u001b[0m\u001b[0m\n\u001b[0;32m---> 54\u001b[0;31m         \u001b[0mk1\u001b[0m \u001b[0;34m=\u001b[0m \u001b[0mdt\u001b[0m \u001b[0;34m*\u001b[0m \u001b[0mself\u001b[0m\u001b[0;34m.\u001b[0m\u001b[0mset_diff_eq\u001b[0m\u001b[0;34m(\u001b[0m\u001b[0mt\u001b[0m\u001b[0;34m,\u001b[0m \u001b[0mself\u001b[0m\u001b[0;34m.\u001b[0m\u001b[0mquant_vec\u001b[0m\u001b[0;34m,\u001b[0m \u001b[0mself\u001b[0m\u001b[0;34m.\u001b[0m\u001b[0mmass_vec\u001b[0m\u001b[0;34m,\u001b[0m \u001b[0;34m**\u001b[0m\u001b[0mself\u001b[0m\u001b[0;34m.\u001b[0m\u001b[0mdiff_eq_kwargs\u001b[0m\u001b[0;34m)\u001b[0m\u001b[0;34m\u001b[0m\u001b[0;34m\u001b[0m\u001b[0m\n\u001b[0m\u001b[1;32m     55\u001b[0m         \u001b[0mk2\u001b[0m \u001b[0;34m=\u001b[0m \u001b[0mdt\u001b[0m \u001b[0;34m*\u001b[0m \u001b[0mself\u001b[0m\u001b[0;34m.\u001b[0m\u001b[0mset_diff_eq\u001b[0m\u001b[0;34m(\u001b[0m\u001b[0mt\u001b[0m\u001b[0;34m+\u001b[0m\u001b[0;36m0.5\u001b[0m\u001b[0;34m*\u001b[0m\u001b[0mdt\u001b[0m\u001b[0;34m,\u001b[0m \u001b[0mself\u001b[0m\u001b[0;34m.\u001b[0m\u001b[0mquant_vec\u001b[0m\u001b[0;34m+\u001b[0m\u001b[0;36m0.5\u001b[0m\u001b[0;34m*\u001b[0m\u001b[0mk1\u001b[0m\u001b[0;34m,\u001b[0m \u001b[0mself\u001b[0m\u001b[0;34m.\u001b[0m\u001b[0mmass_vec\u001b[0m\u001b[0;34m,\u001b[0m \u001b[0;34m**\u001b[0m\u001b[0mself\u001b[0m\u001b[0;34m.\u001b[0m\u001b[0mdiff_eq_kwargs\u001b[0m\u001b[0;34m)\u001b[0m\u001b[0;34m\u001b[0m\u001b[0;34m\u001b[0m\u001b[0m\n\u001b[1;32m     56\u001b[0m         \u001b[0mk3\u001b[0m \u001b[0;34m=\u001b[0m \u001b[0mdt\u001b[0m \u001b[0;34m*\u001b[0m \u001b[0mself\u001b[0m\u001b[0;34m.\u001b[0m\u001b[0mset_diff_eq\u001b[0m\u001b[0;34m(\u001b[0m\u001b[0mt\u001b[0m\u001b[0;34m+\u001b[0m\u001b[0;36m0.5\u001b[0m\u001b[0;34m*\u001b[0m\u001b[0mdt\u001b[0m\u001b[0;34m,\u001b[0m \u001b[0mself\u001b[0m\u001b[0;34m.\u001b[0m\u001b[0mquant_vec\u001b[0m\u001b[0;34m+\u001b[0m\u001b[0;36m0.5\u001b[0m\u001b[0;34m*\u001b[0m\u001b[0mk2\u001b[0m\u001b[0;34m,\u001b[0m \u001b[0mself\u001b[0m\u001b[0;34m.\u001b[0m\u001b[0mmass_vec\u001b[0m\u001b[0;34m,\u001b[0m \u001b[0;34m**\u001b[0m\u001b[0mself\u001b[0m\u001b[0;34m.\u001b[0m\u001b[0mdiff_eq_kwargs\u001b[0m\u001b[0;34m)\u001b[0m\u001b[0;34m\u001b[0m\u001b[0;34m\u001b[0m\u001b[0m\n",
      "\u001b[0;31mTypeError\u001b[0m: set_diff_eq() takes 2 positional arguments but 4 were given"
     ]
    }
   ],
   "source": [
    "M_moon = (7.347e22*u.kg).cgs\n",
    "v_moon = np.array([0,1.022,0])*u.km/u.s\n",
    "moon_momentum = M_moon * v_moon\n",
    "\n",
    "Moon = Body(mass=M_moon,\n",
    "           x_vec = np.array([3.84e5,0,0])*u.km,\n",
    "           v_vec = v_moon,\n",
    "           name='Moon')\n",
    "\n",
    "#calculate reciprocal momentum for Earth\n",
    "v_earth = - (moon_momentum / c.M_earth).to(u.km/u.s).value\n",
    "\n",
    "Earth = Body(mass=c.M_earth.cgs,\n",
    "             x_vec=np.array([0,0,0])*u.km,\n",
    "             v_vec=np.array(v_earth)*u.km/u.s,\n",
    "             name='Earth')\n",
    "\n",
    "\n",
    "bodies = [Earth,Moon]\n",
    "\n",
    "simulation = Simulation(bodies)\n",
    "simulation.set_diff_eq(nbody_solve)\n",
    "\n",
    "simulation.run(72*u.day,1*u.hr)"
   ]
  },
  {
   "cell_type": "markdown",
   "metadata": {},
   "source": [
    "I'm not sure why this doesn't really work... I'm doing it the same way as the solutions. I get what it's saying about the arguments, though couldn't they be passed through by considering them as kwargs? Not sure what the deal is."
   ]
  },
  {
   "cell_type": "code",
   "execution_count": null,
   "metadata": {},
   "outputs": [],
   "source": []
  }
 ],
 "metadata": {
  "kernelspec": {
   "display_name": "Python 3",
   "language": "python",
   "name": "python3"
  },
  "language_info": {
   "codemirror_mode": {
    "name": "ipython",
    "version": 3
   },
   "file_extension": ".py",
   "mimetype": "text/x-python",
   "name": "python",
   "nbconvert_exporter": "python",
   "pygments_lexer": "ipython3",
   "version": "3.8.5"
  }
 },
 "nbformat": 4,
 "nbformat_minor": 4
}
