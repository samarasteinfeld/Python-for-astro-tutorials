{
 "cells": [
  {
   "cell_type": "markdown",
   "metadata": {},
   "source": [
    "### Tutorial link [here](https://prappleizer.github.io/Tutorials/RK4/RK4_Tutorial.html)\n",
    "Samara Steinfeld"
   ]
  },
  {
   "cell_type": "code",
   "execution_count": 1,
   "metadata": {},
   "outputs": [],
   "source": [
    "import numpy as np \n",
    "import matplotlib.pyplot as plt \n",
    "import astropy.units as u \n",
    "import astropy.constants as c "
   ]
  },
  {
   "cell_type": "code",
   "execution_count": 19,
   "metadata": {},
   "outputs": [],
   "source": [
    "class Body():\n",
    "    def __init__(self,name, x_vec, v_vec, mass): #keeping steps separate for learning/clarity\n",
    "        \"\"\"A body\n",
    "        Parameters\n",
    "        ----------\n",
    "        name : string\n",
    "            name of the body\n",
    "        x_vec : 3-d array \n",
    "            x vector, positions\n",
    "        v_vec : 3-d array \n",
    "            velocity vector\n",
    "        mass : float\n",
    "            mass of body\n",
    "     \n",
    "        \"\"\"\n",
    "        \n",
    "        #make them in units of cgs\n",
    "        x_cgs = x_vec.cgs\n",
    "        v_cgs = v_vec.cgs\n",
    "        mass_cgs = mass.cgs\n",
    "        \n",
    "        #strip of units and initialize in self\n",
    "        self.x_vec = x_cgs.value\n",
    "        self.v_vec = v_cgs.value\n",
    "        self.mass = mass_cgs.value\n",
    "        \n",
    "        self.name = name\n",
    "        pass\n",
    "    \n",
    "    def return_vec(self):\n",
    "        \"\"\"\n",
    "        Concatenate the position and velocity vectors\n",
    "        \"\"\"\n",
    "        return np.concatenate((self.x_vec, self.v_vec))"
   ]
  },
  {
   "cell_type": "code",
   "execution_count": 20,
   "metadata": {},
   "outputs": [
    {
     "name": "stdout",
     "output_type": "stream",
     "text": [
      "10.0 solMass\n",
      "1.988409870698051e+34\n"
     ]
    }
   ],
   "source": [
    "####EXAMPLE FROM TUTORIAL\n",
    "\n",
    "#here is some mass a user might set up\n",
    "my_mass = 10 * u.Msun\n",
    "print(my_mass)\n",
    "# We can convert this to cgs and then strip the units via\n",
    "\n",
    "my_mass_stripped = my_mass.cgs.value\n",
    "print(my_mass_stripped)"
   ]
  },
  {
   "cell_type": "code",
   "execution_count": 41,
   "metadata": {},
   "outputs": [],
   "source": [
    "class Simulation():\n",
    "    def __init__(self, bodies):\n",
    "        \"\"\"What bodies to consider in a simulation\n",
    "        Parameters\n",
    "        ----------\n",
    "        bodies : list\n",
    "            list of bodies to use in simulation\n",
    "        N_bodies : float \n",
    "            number of bodies\n",
    "        Ndim : float\n",
    "            D phase space info in this diff eq \n",
    "        quant_vec : n-darray\n",
    "            array with position and velocity of all bodies\n",
    "        mass_vec : n-darray\n",
    "            mass of bodies\n",
    "        name_vec : list\n",
    "            name of bodies\n",
    "     \n",
    "        \"\"\"\n",
    "        \n",
    "        self.bodies = bodies\n",
    "        self.N_bodies = len(bodies)\n",
    "        self.Ndim = 6\n",
    "        \n",
    "        self.quant_vec = np.concatenate(np.array([body.return_vec() for body in self.bodies]))\n",
    "        self.mass_vec = np.array([body.mass for body in self.bodies])\n",
    "        self.name_vec = [body.name for body in self.bodies]\n",
    "        pass"
   ]
  },
  {
   "cell_type": "code",
   "execution_count": 42,
   "metadata": {},
   "outputs": [],
   "source": [
    "Earth = Body(name='Earth',\n",
    "             x_vec = np.array([0,1,0])*u.AU,\n",
    "             v_vec = np.array([0,30,0])*u.km/u.s,\n",
    "             mass = 1.0*c.M_earth)\n",
    "Earth.return_vec()\n",
    "\n",
    "Sun = Body(name='Sun',\n",
    "           x_vec = np.array([0,0,0])*u.AU,\n",
    "           v_vec = np.array([0,0,0])*u.km/u.s,\n",
    "           mass = 1*u.Msun)\n",
    "\n",
    "bodies = [Earth,Sun]\n",
    "\n",
    "my_simulation = Simulation(bodies)"
   ]
  },
  {
   "cell_type": "code",
   "execution_count": 43,
   "metadata": {},
   "outputs": [],
   "source": [
    "def set_diff_eq(self,calc_diff_eqs,**kwargs):\n",
    "    '''\n",
    "    Method which assigns an external solver function as the diff-eq solver for RK4. \n",
    "    For N-body or gravitational setups, this is the function which calculates accelerations.\n",
    "    ---------------------------------\n",
    "    Params:\n",
    "        calc_diff_eqs: A function which returns a [y] vector for RK4\n",
    "        **kwargs: Any additional inputs/hyperparameters the external function requires\n",
    "    '''\n",
    "    self.diff_eq_kwargs = kwargs\n",
    "    self.calc_diff_eqs = calc_diff_eqs"
   ]
  },
  {
   "cell_type": "markdown",
   "metadata": {},
   "source": [
    "**Notes from the tutorial page**\n",
    "- We call an integrater linear or first order if it is the case that reducing your time step-size by a factor of ten results in a factor of 10 reduction in accumulated error.\n",
    "\n",
    "\n",
    "**Formula for rk4:**\n",
    "$$k_1 = dt\\times f(t_n, y_n)$$\n",
    "$$k_2 = dt\\times f(t_n + \\frac{dt}{2}, y_n +\\frac{k_1}{2})$$\n",
    "$$k_3 = dt\\times f(t_n + \\frac{dt}{2}, y_n +\\frac{k_2}{2})$$\n",
    "$$k_4 = dt\\times f(t_n + dt, y_n +k_3)$$\n",
    "\n",
    "$$y_{n+1} = y_n +\\frac{1}{6}(k_1+k_2+k_3+k_4)$$\n",
    "$$t_{n+1} = t_n+dt$$\n",
    "\n",
    "- $k_1$ is actually just what you would get from a first order, direct integration. It is the timestep multiplied by the evaluation of the differential equation at t and $y_n$ (the generalized vector).\n",
    "- $k_2$ is an estimate for $y$, but this time at the half-step mark in time, $dt/2$ and at the position $(y_n+k_1/2)$. That is, at half the distance predicted by the first order step.\n",
    "- $k_3$ evaluates the differential equation $t+dt/2$ but at the position $(y_n+k_2/2$, half the distance estimated by the previous step.\n",
    "- $k_4$ is the evaluation of the differential equation at the full timestep $dt$ at the $k_3$ position\n",
    "- Then the $k$s are added together in a weighted way."
   ]
  },
  {
   "cell_type": "code",
   "execution_count": null,
   "metadata": {},
   "outputs": [],
   "source": []
  }
 ],
 "metadata": {
  "kernelspec": {
   "display_name": "Python 3",
   "language": "python",
   "name": "python3"
  },
  "language_info": {
   "codemirror_mode": {
    "name": "ipython",
    "version": 3
   },
   "file_extension": ".py",
   "mimetype": "text/x-python",
   "name": "python",
   "nbconvert_exporter": "python",
   "pygments_lexer": "ipython3",
   "version": "3.8.5"
  }
 },
 "nbformat": 4,
 "nbformat_minor": 4
}
